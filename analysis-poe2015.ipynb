{
 "cells": [
  {
   "cell_type": "markdown",
   "metadata": {},
   "source": [
    "# Gender representation at specialized astronomy conferences"
   ]
  },
  {
   "cell_type": "markdown",
   "metadata": {},
   "source": [
    "#### *Nick Cox*"
   ]
  },
  {
   "cell_type": "markdown",
   "metadata": {},
   "source": [
    "Following the recent study by Kyle Willett on gender representation at specialized astronomy conferences I have gathered similar data at another specialised astrophysics meeting, \"Physics of Evolved Stars\" (henceforth, POE2015). POE2015 was held in Nice, France from [8-12 June, 2015](http://poe2015.sciencesconf.org). The analysis strategy (ipyton notebook) has been cloned from Kyle Willet's github respository.\n",
    "\n",
    "Briefly, recapitulating, the goal of these surveys is to track participation at conferences as a function of gender, particularly relating to question/answer sessions after oral presentations. This is intended to address some basic questions about behavior at conferences, such as:\n",
    "\n",
    "* How equal are the allotments of talks among men and women?\n",
    "* Are men and women asking questions at the same rate?\n",
    "* Does it matter if the speaker/session chair is a man or a woman?\n",
    "* Are women/men more likely to ask the ***first*** question in a session? Does this affect the gender balance of remaining questions?\n",
    "\n",
    "\n",
    "These questions were first addressed with data-gathering efforts first led by James Davenport at the [223rd American Astronomical Society (AAS) meeting in 2014](http://www.ifweassume.com/2014/03/report-gender-in-aas-talks.html), and repeated at the [225th AAS meeting in 2015](http://nbviewer.ipython.org/github/jradavenport/aas225-gender/blob/master/analysis.ipynb) and the [National Astronomy Meeting (NAM) in the UK in 2014](http://arxiv.org/abs/1412.4571). These focus on question/answer sessions since these are public, quantifiable, and one of the main ways in which professional interaction takes place. These studies found that men ask disproportionally more questions than women, and that the gender of the session chair has a strong impact on the gender ratio of questioners. \n",
    "\n",
    "Following the gender representation at the above mentioned large, thematically broad meetings, Kyle Willett addressed the issue whether smaller, more specialized meetings follow the same trends. He tracked this data for a recent conference on \"Unveiling the AGN-Galaxy Evolution Connection\" (Puerto Varas, Chile from [9-13 March 2015](http://www.astro-udec.cl/agn15/)). There were a total of 200 people on the list of participants and the gender of speakers, chairs, and questioners for all 72 talks were tracked.\n",
    "\n",
    "For POE215 there were 133 registered participants (97 male / 36 female) and a total of 42 oral presentation (excluding the intial two \"review\" talks (MM) and conference summary (F)). In addition to the gender of speakers, chairs and questioners, I also attempted to track the identity of the (most frequent) questioners. The discussion sessions are excluded for pratical reasons. Questioners were tracked for 39 talks.\n"
   ]
  },
  {
   "cell_type": "markdown",
   "metadata": {},
   "source": [
    "## What are the overall demographics of the conference?"
   ]
  },
  {
   "cell_type": "code",
   "execution_count": 7,
   "metadata": {
    "collapsed": false
   },
   "outputs": [
    {
     "name": "stdout",
     "output_type": "stream",
     "text": [
      "Populating the interactive namespace from numpy and matplotlib\n"
     ]
    },
    {
     "ename": "HTTPError",
     "evalue": "HTTP Error 404: Not Found",
     "output_type": "error",
     "traceback": [
      "\u001b[0;31m---------------------------------------------------------------------------\u001b[0m",
      "\u001b[0;31mHTTPError\u001b[0m                                 Traceback (most recent call last)",
      "\u001b[0;32m<ipython-input-7-d1e36adcb13b>\u001b[0m in \u001b[0;36m<module>\u001b[0;34m()\u001b[0m\n\u001b[1;32m     23\u001b[0m \u001b[0murlbase\u001b[0m \u001b[0;34m=\u001b[0m \u001b[0;34m'http://localhost:8888/edit/Downloads/chile2015-gender-master/'\u001b[0m\u001b[0;34m\u001b[0m\u001b[0m\n\u001b[1;32m     24\u001b[0m \u001b[0;31m#q = pd.read_csv('%s/question_data.csv' % urlbase)\u001b[0m\u001b[0;34m\u001b[0m\u001b[0;34m\u001b[0m\u001b[0m\n\u001b[0;32m---> 25\u001b[0;31m \u001b[0mc\u001b[0m \u001b[0;34m=\u001b[0m \u001b[0mpd\u001b[0m\u001b[0;34m.\u001b[0m\u001b[0mread_csv\u001b[0m\u001b[0;34m(\u001b[0m\u001b[0;34m'%s/chair_data.csv'\u001b[0m \u001b[0;34m%\u001b[0m \u001b[0murlbase\u001b[0m\u001b[0;34m)\u001b[0m\u001b[0;34m\u001b[0m\u001b[0m\n\u001b[0m\u001b[1;32m     26\u001b[0m \u001b[0;34m\u001b[0m\u001b[0m\n\u001b[1;32m     27\u001b[0m \u001b[0mfig\u001b[0m \u001b[0;34m=\u001b[0m \u001b[0mplt\u001b[0m\u001b[0;34m.\u001b[0m\u001b[0mfigure\u001b[0m\u001b[0;34m(\u001b[0m\u001b[0;36m1\u001b[0m\u001b[0;34m,\u001b[0m\u001b[0;34m(\u001b[0m\u001b[0;36m6\u001b[0m\u001b[0;34m,\u001b[0m\u001b[0;36m6\u001b[0m\u001b[0;34m)\u001b[0m\u001b[0;34m)\u001b[0m\u001b[0;34m\u001b[0m\u001b[0m\n",
      "\u001b[0;32m/Users/nick/anaconda/lib/python2.7/site-packages/pandas/io/parsers.pyc\u001b[0m in \u001b[0;36mparser_f\u001b[0;34m(filepath_or_buffer, sep, dialect, compression, doublequote, escapechar, quotechar, quoting, skipinitialspace, lineterminator, header, index_col, names, prefix, skiprows, skipfooter, skip_footer, na_values, na_fvalues, true_values, false_values, delimiter, converters, dtype, usecols, engine, delim_whitespace, as_recarray, na_filter, compact_ints, use_unsigned, low_memory, buffer_lines, warn_bad_lines, error_bad_lines, keep_default_na, thousands, comment, decimal, parse_dates, keep_date_col, dayfirst, date_parser, memory_map, float_precision, nrows, iterator, chunksize, verbose, encoding, squeeze, mangle_dupe_cols, tupleize_cols, infer_datetime_format, skip_blank_lines)\u001b[0m\n\u001b[1;32m    463\u001b[0m                     skip_blank_lines=skip_blank_lines)\n\u001b[1;32m    464\u001b[0m \u001b[0;34m\u001b[0m\u001b[0m\n\u001b[0;32m--> 465\u001b[0;31m         \u001b[0;32mreturn\u001b[0m \u001b[0m_read\u001b[0m\u001b[0;34m(\u001b[0m\u001b[0mfilepath_or_buffer\u001b[0m\u001b[0;34m,\u001b[0m \u001b[0mkwds\u001b[0m\u001b[0;34m)\u001b[0m\u001b[0;34m\u001b[0m\u001b[0m\n\u001b[0m\u001b[1;32m    466\u001b[0m \u001b[0;34m\u001b[0m\u001b[0m\n\u001b[1;32m    467\u001b[0m     \u001b[0mparser_f\u001b[0m\u001b[0;34m.\u001b[0m\u001b[0m__name__\u001b[0m \u001b[0;34m=\u001b[0m \u001b[0mname\u001b[0m\u001b[0;34m\u001b[0m\u001b[0m\n",
      "\u001b[0;32m/Users/nick/anaconda/lib/python2.7/site-packages/pandas/io/parsers.pyc\u001b[0m in \u001b[0;36m_read\u001b[0;34m(filepath_or_buffer, kwds)\u001b[0m\n\u001b[1;32m    227\u001b[0m \u001b[0;34m\u001b[0m\u001b[0m\n\u001b[1;32m    228\u001b[0m     filepath_or_buffer, _ = get_filepath_or_buffer(filepath_or_buffer,\n\u001b[0;32m--> 229\u001b[0;31m                                                    encoding)\n\u001b[0m\u001b[1;32m    230\u001b[0m \u001b[0;34m\u001b[0m\u001b[0m\n\u001b[1;32m    231\u001b[0m     \u001b[0;32mif\u001b[0m \u001b[0mkwds\u001b[0m\u001b[0;34m.\u001b[0m\u001b[0mget\u001b[0m\u001b[0;34m(\u001b[0m\u001b[0;34m'date_parser'\u001b[0m\u001b[0;34m,\u001b[0m \u001b[0mNone\u001b[0m\u001b[0;34m)\u001b[0m \u001b[0;32mis\u001b[0m \u001b[0;32mnot\u001b[0m \u001b[0mNone\u001b[0m\u001b[0;34m:\u001b[0m\u001b[0;34m\u001b[0m\u001b[0m\n",
      "\u001b[0;32m/Users/nick/anaconda/lib/python2.7/site-packages/pandas/io/common.pyc\u001b[0m in \u001b[0;36mget_filepath_or_buffer\u001b[0;34m(filepath_or_buffer, encoding)\u001b[0m\n\u001b[1;32m    116\u001b[0m \u001b[0;34m\u001b[0m\u001b[0m\n\u001b[1;32m    117\u001b[0m     \u001b[0;32mif\u001b[0m \u001b[0m_is_url\u001b[0m\u001b[0;34m(\u001b[0m\u001b[0mfilepath_or_buffer\u001b[0m\u001b[0;34m)\u001b[0m\u001b[0;34m:\u001b[0m\u001b[0;34m\u001b[0m\u001b[0m\n\u001b[0;32m--> 118\u001b[0;31m         \u001b[0mreq\u001b[0m \u001b[0;34m=\u001b[0m \u001b[0m_urlopen\u001b[0m\u001b[0;34m(\u001b[0m\u001b[0mstr\u001b[0m\u001b[0;34m(\u001b[0m\u001b[0mfilepath_or_buffer\u001b[0m\u001b[0;34m)\u001b[0m\u001b[0;34m)\u001b[0m\u001b[0;34m\u001b[0m\u001b[0m\n\u001b[0m\u001b[1;32m    119\u001b[0m         \u001b[0;32mreturn\u001b[0m \u001b[0mmaybe_read_encoded_stream\u001b[0m\u001b[0;34m(\u001b[0m\u001b[0mreq\u001b[0m\u001b[0;34m,\u001b[0m \u001b[0mencoding\u001b[0m\u001b[0;34m)\u001b[0m\u001b[0;34m\u001b[0m\u001b[0m\n\u001b[1;32m    120\u001b[0m \u001b[0;34m\u001b[0m\u001b[0m\n",
      "\u001b[0;32m/Users/nick/anaconda/lib/python2.7/urllib2.pyc\u001b[0m in \u001b[0;36murlopen\u001b[0;34m(url, data, timeout, cafile, capath, cadefault, context)\u001b[0m\n\u001b[1;32m    152\u001b[0m     \u001b[0;32melse\u001b[0m\u001b[0;34m:\u001b[0m\u001b[0;34m\u001b[0m\u001b[0m\n\u001b[1;32m    153\u001b[0m         \u001b[0mopener\u001b[0m \u001b[0;34m=\u001b[0m \u001b[0m_opener\u001b[0m\u001b[0;34m\u001b[0m\u001b[0m\n\u001b[0;32m--> 154\u001b[0;31m     \u001b[0;32mreturn\u001b[0m \u001b[0mopener\u001b[0m\u001b[0;34m.\u001b[0m\u001b[0mopen\u001b[0m\u001b[0;34m(\u001b[0m\u001b[0murl\u001b[0m\u001b[0;34m,\u001b[0m \u001b[0mdata\u001b[0m\u001b[0;34m,\u001b[0m \u001b[0mtimeout\u001b[0m\u001b[0;34m)\u001b[0m\u001b[0;34m\u001b[0m\u001b[0m\n\u001b[0m\u001b[1;32m    155\u001b[0m \u001b[0;34m\u001b[0m\u001b[0m\n\u001b[1;32m    156\u001b[0m \u001b[0;32mdef\u001b[0m \u001b[0minstall_opener\u001b[0m\u001b[0;34m(\u001b[0m\u001b[0mopener\u001b[0m\u001b[0;34m)\u001b[0m\u001b[0;34m:\u001b[0m\u001b[0;34m\u001b[0m\u001b[0m\n",
      "\u001b[0;32m/Users/nick/anaconda/lib/python2.7/urllib2.pyc\u001b[0m in \u001b[0;36mopen\u001b[0;34m(self, fullurl, data, timeout)\u001b[0m\n\u001b[1;32m    435\u001b[0m         \u001b[0;32mfor\u001b[0m \u001b[0mprocessor\u001b[0m \u001b[0;32min\u001b[0m \u001b[0mself\u001b[0m\u001b[0;34m.\u001b[0m\u001b[0mprocess_response\u001b[0m\u001b[0;34m.\u001b[0m\u001b[0mget\u001b[0m\u001b[0;34m(\u001b[0m\u001b[0mprotocol\u001b[0m\u001b[0;34m,\u001b[0m \u001b[0;34m[\u001b[0m\u001b[0;34m]\u001b[0m\u001b[0;34m)\u001b[0m\u001b[0;34m:\u001b[0m\u001b[0;34m\u001b[0m\u001b[0m\n\u001b[1;32m    436\u001b[0m             \u001b[0mmeth\u001b[0m \u001b[0;34m=\u001b[0m \u001b[0mgetattr\u001b[0m\u001b[0;34m(\u001b[0m\u001b[0mprocessor\u001b[0m\u001b[0;34m,\u001b[0m \u001b[0mmeth_name\u001b[0m\u001b[0;34m)\u001b[0m\u001b[0;34m\u001b[0m\u001b[0m\n\u001b[0;32m--> 437\u001b[0;31m             \u001b[0mresponse\u001b[0m \u001b[0;34m=\u001b[0m \u001b[0mmeth\u001b[0m\u001b[0;34m(\u001b[0m\u001b[0mreq\u001b[0m\u001b[0;34m,\u001b[0m \u001b[0mresponse\u001b[0m\u001b[0;34m)\u001b[0m\u001b[0;34m\u001b[0m\u001b[0m\n\u001b[0m\u001b[1;32m    438\u001b[0m \u001b[0;34m\u001b[0m\u001b[0m\n\u001b[1;32m    439\u001b[0m         \u001b[0;32mreturn\u001b[0m \u001b[0mresponse\u001b[0m\u001b[0;34m\u001b[0m\u001b[0m\n",
      "\u001b[0;32m/Users/nick/anaconda/lib/python2.7/urllib2.pyc\u001b[0m in \u001b[0;36mhttp_response\u001b[0;34m(self, request, response)\u001b[0m\n\u001b[1;32m    548\u001b[0m         \u001b[0;32mif\u001b[0m \u001b[0;32mnot\u001b[0m \u001b[0;34m(\u001b[0m\u001b[0;36m200\u001b[0m \u001b[0;34m<=\u001b[0m \u001b[0mcode\u001b[0m \u001b[0;34m<\u001b[0m \u001b[0;36m300\u001b[0m\u001b[0;34m)\u001b[0m\u001b[0;34m:\u001b[0m\u001b[0;34m\u001b[0m\u001b[0m\n\u001b[1;32m    549\u001b[0m             response = self.parent.error(\n\u001b[0;32m--> 550\u001b[0;31m                 'http', request, response, code, msg, hdrs)\n\u001b[0m\u001b[1;32m    551\u001b[0m \u001b[0;34m\u001b[0m\u001b[0m\n\u001b[1;32m    552\u001b[0m         \u001b[0;32mreturn\u001b[0m \u001b[0mresponse\u001b[0m\u001b[0;34m\u001b[0m\u001b[0m\n",
      "\u001b[0;32m/Users/nick/anaconda/lib/python2.7/urllib2.pyc\u001b[0m in \u001b[0;36merror\u001b[0;34m(self, proto, *args)\u001b[0m\n\u001b[1;32m    473\u001b[0m         \u001b[0;32mif\u001b[0m \u001b[0mhttp_err\u001b[0m\u001b[0;34m:\u001b[0m\u001b[0;34m\u001b[0m\u001b[0m\n\u001b[1;32m    474\u001b[0m             \u001b[0margs\u001b[0m \u001b[0;34m=\u001b[0m \u001b[0;34m(\u001b[0m\u001b[0mdict\u001b[0m\u001b[0;34m,\u001b[0m \u001b[0;34m'default'\u001b[0m\u001b[0;34m,\u001b[0m \u001b[0;34m'http_error_default'\u001b[0m\u001b[0;34m)\u001b[0m \u001b[0;34m+\u001b[0m \u001b[0morig_args\u001b[0m\u001b[0;34m\u001b[0m\u001b[0m\n\u001b[0;32m--> 475\u001b[0;31m             \u001b[0;32mreturn\u001b[0m \u001b[0mself\u001b[0m\u001b[0;34m.\u001b[0m\u001b[0m_call_chain\u001b[0m\u001b[0;34m(\u001b[0m\u001b[0;34m*\u001b[0m\u001b[0margs\u001b[0m\u001b[0;34m)\u001b[0m\u001b[0;34m\u001b[0m\u001b[0m\n\u001b[0m\u001b[1;32m    476\u001b[0m \u001b[0;34m\u001b[0m\u001b[0m\n\u001b[1;32m    477\u001b[0m \u001b[0;31m# XXX probably also want an abstract factory that knows when it makes\u001b[0m\u001b[0;34m\u001b[0m\u001b[0;34m\u001b[0m\u001b[0m\n",
      "\u001b[0;32m/Users/nick/anaconda/lib/python2.7/urllib2.pyc\u001b[0m in \u001b[0;36m_call_chain\u001b[0;34m(self, chain, kind, meth_name, *args)\u001b[0m\n\u001b[1;32m    407\u001b[0m             \u001b[0mfunc\u001b[0m \u001b[0;34m=\u001b[0m \u001b[0mgetattr\u001b[0m\u001b[0;34m(\u001b[0m\u001b[0mhandler\u001b[0m\u001b[0;34m,\u001b[0m \u001b[0mmeth_name\u001b[0m\u001b[0;34m)\u001b[0m\u001b[0;34m\u001b[0m\u001b[0m\n\u001b[1;32m    408\u001b[0m \u001b[0;34m\u001b[0m\u001b[0m\n\u001b[0;32m--> 409\u001b[0;31m             \u001b[0mresult\u001b[0m \u001b[0;34m=\u001b[0m \u001b[0mfunc\u001b[0m\u001b[0;34m(\u001b[0m\u001b[0;34m*\u001b[0m\u001b[0margs\u001b[0m\u001b[0;34m)\u001b[0m\u001b[0;34m\u001b[0m\u001b[0m\n\u001b[0m\u001b[1;32m    410\u001b[0m             \u001b[0;32mif\u001b[0m \u001b[0mresult\u001b[0m \u001b[0;32mis\u001b[0m \u001b[0;32mnot\u001b[0m \u001b[0mNone\u001b[0m\u001b[0;34m:\u001b[0m\u001b[0;34m\u001b[0m\u001b[0m\n\u001b[1;32m    411\u001b[0m                 \u001b[0;32mreturn\u001b[0m \u001b[0mresult\u001b[0m\u001b[0;34m\u001b[0m\u001b[0m\n",
      "\u001b[0;32m/Users/nick/anaconda/lib/python2.7/urllib2.pyc\u001b[0m in \u001b[0;36mhttp_error_default\u001b[0;34m(self, req, fp, code, msg, hdrs)\u001b[0m\n\u001b[1;32m    556\u001b[0m \u001b[0;32mclass\u001b[0m \u001b[0mHTTPDefaultErrorHandler\u001b[0m\u001b[0;34m(\u001b[0m\u001b[0mBaseHandler\u001b[0m\u001b[0;34m)\u001b[0m\u001b[0;34m:\u001b[0m\u001b[0;34m\u001b[0m\u001b[0m\n\u001b[1;32m    557\u001b[0m     \u001b[0;32mdef\u001b[0m \u001b[0mhttp_error_default\u001b[0m\u001b[0;34m(\u001b[0m\u001b[0mself\u001b[0m\u001b[0;34m,\u001b[0m \u001b[0mreq\u001b[0m\u001b[0;34m,\u001b[0m \u001b[0mfp\u001b[0m\u001b[0;34m,\u001b[0m \u001b[0mcode\u001b[0m\u001b[0;34m,\u001b[0m \u001b[0mmsg\u001b[0m\u001b[0;34m,\u001b[0m \u001b[0mhdrs\u001b[0m\u001b[0;34m)\u001b[0m\u001b[0;34m:\u001b[0m\u001b[0;34m\u001b[0m\u001b[0m\n\u001b[0;32m--> 558\u001b[0;31m         \u001b[0;32mraise\u001b[0m \u001b[0mHTTPError\u001b[0m\u001b[0;34m(\u001b[0m\u001b[0mreq\u001b[0m\u001b[0;34m.\u001b[0m\u001b[0mget_full_url\u001b[0m\u001b[0;34m(\u001b[0m\u001b[0;34m)\u001b[0m\u001b[0;34m,\u001b[0m \u001b[0mcode\u001b[0m\u001b[0;34m,\u001b[0m \u001b[0mmsg\u001b[0m\u001b[0;34m,\u001b[0m \u001b[0mhdrs\u001b[0m\u001b[0;34m,\u001b[0m \u001b[0mfp\u001b[0m\u001b[0;34m)\u001b[0m\u001b[0;34m\u001b[0m\u001b[0m\n\u001b[0m\u001b[1;32m    559\u001b[0m \u001b[0;34m\u001b[0m\u001b[0m\n\u001b[1;32m    560\u001b[0m \u001b[0;32mclass\u001b[0m \u001b[0mHTTPRedirectHandler\u001b[0m\u001b[0;34m(\u001b[0m\u001b[0mBaseHandler\u001b[0m\u001b[0;34m)\u001b[0m\u001b[0;34m:\u001b[0m\u001b[0;34m\u001b[0m\u001b[0m\n",
      "\u001b[0;31mHTTPError\u001b[0m: HTTP Error 404: Not Found"
     ]
    }
   ],
   "source": [
    "%pylab inline\n",
    "\n",
    "'''\n",
    "Note: this notebook requires the following, fairly standard Python packages:\n",
    "\n",
    "    numpy\n",
    "    scipy\n",
    "    matplotlib\n",
    "    pandas\n",
    "    \n",
    "And one not-as-common package (also available through PyPI):\n",
    "\n",
    "    sexmachine\n",
    "'''\n",
    "\n",
    "from __future__ import division\n",
    "from matplotlib import pyplot as plt\n",
    "import numpy as np\n",
    "import pandas as pd\n",
    "\n",
    "gencolors =('purple','orange')\n",
    "#urlbase = 'https://raw.githubusercontent.com/kalaschsoyuz/poe2015-gender/master'\n",
    "#urlbase = 'http://localhost:8888/edit/Downloads/chile2015-gender-master/'\n",
    "q = pd.read_csv('%s/question_data.csv' % urlbase)\n",
    "c = pd.read_csv('%s/chair_data.csv' % urlbase)\n",
    "\n",
    "fig = plt.figure(1,(6,6))\n",
    "\n",
    "# Speakers\n",
    "vc_speakers = q['speaker'].value_counts()\n",
    "\n",
    "# People asking questions of the speakers\n",
    "qa=list(q['questions'])\n",
    "qa.remove(' ')\n",
    "vc_questioners = pd.value_counts(list(''.join(qa)))\n",
    "\n",
    "# Chairs of the sessions\n",
    "vc_chairs = c['gender'].value_counts()\n",
    "\n",
    "# Attendees\n",
    "\n",
    "number_attendees = 133\n",
    "number_f         = 36\n",
    "number_m         = 97\n",
    "\n",
    "#countrydata = pd.read_csv('%s/map/countries.csv' % urlbase)\n",
    "#names = countrydata['name']\n",
    "#firstnames = [x.split(' ')[0] for x in names]\n",
    "# Guess (based on first names) what gender the attendees are\n",
    "#from sexmachine import detector as gender\n",
    "#d = gender.Detector(case_sensitive=False)\n",
    "#from collections import Counter\n",
    "#genders = [d.get_gender(fn) for fn in firstnames]\n",
    "#cg = Counter(genders)\n",
    "#attendees = list('M'*(cg['male'] + cg['mostly_male'])+'F'*(cg['female'] + cg['mostly_female']))\n",
    "# Ignores users whose gender cannot be reliably determined from first name\n",
    "#vc_genderdata = pd.read_csv('%s/.csv' % urlbase)\n",
    "#vc_attendees = pd.value_counts(attendees)\n",
    "\n",
    "# People who asked the first question of the speakers\n",
    "first = [x[1]['questions'][0] for x in q.iterrows()]\n",
    "first.remove(' ')\n",
    "vc_firstquestion = pd.value_counts(first)\n",
    "\n",
    "vc_personidentifier = pd.read_csv('%s/.csv' % urlbase)\n",
    "\n",
    "# Load everything into a single dataframe\n",
    "\n",
    "data = [vc_speakers,vc_chairs,vc_attendees,vc_questioners,vc_firstquestion][::-1]\n",
    "labels = ['Speakers','Chairs','Attendees','Questioners','First question'][::-1]\n",
    "\n",
    "normdata = [x/x.sum() for x in data]\n",
    "\n",
    "# Plot stacked bar chart\n",
    "\n",
    "ax1 = fig.add_subplot(111)\n",
    "df = pd.DataFrame(normdata,index=labels)\n",
    "dfplot = df.plot(kind='barh',stacked=True,ax=ax1,color=gencolors,legend=True)\n",
    "\n",
    "print df\n",
    "\n",
    "# Plot the 50-50 split for guidance\n",
    "\n",
    "ylims1 = ax1.get_ylim()\n",
    "ax1.vlines(0.5,ylims1[0],ylims1[1],color='k',linestyle='-')\n",
    "\n",
    "ax1.set_xlabel('Fraction of participants',fontsize=20)\n",
    "ax1.set_title('Overall demographics at the POE2015 meeting')"
   ]
  },
  {
   "cell_type": "markdown",
   "metadata": {},
   "source": [
    "### Analysis of overall demographics:"
   ]
  },
  {
   "cell_type": "markdown",
   "metadata": {},
   "source": [
    "As in the previous survey (Willett 2015) I tracked gender participation for five aspects of the question/answer sessions. In addition I tracked the identify of the question askers:\n",
    "\n",
    "***\n",
    "* speakers\n",
    "* chairs of the sessions\n",
    "* all attendees of the conference\n",
    "* people who asked questions of the speaker\n",
    "* people who asked the **first** question of the speaker for any given talk\n",
    "* people who asked the **most** questions \n",
    "***\n",
    "\n",
    "The gender ratio of the speakers closely matched that of the attendees as a whole (XX% and XX%, respectively). "
   ]
  },
  {
   "cell_type": "markdown",
   "metadata": {},
   "source": [
    "## Overall demographics for <span style=\"color:red\">POE2015</span> compared to other conferences"
   ]
  },
  {
   "cell_type": "code",
   "execution_count": 8,
   "metadata": {
    "collapsed": false
   },
   "outputs": [
    {
     "ename": "NameError",
     "evalue": "name 'normdata' is not defined",
     "output_type": "error",
     "traceback": [
      "\u001b[0;31m---------------------------------------------------------------------------\u001b[0m",
      "\u001b[0;31mNameError\u001b[0m                                 Traceback (most recent call last)",
      "\u001b[0;32m<ipython-input-8-c3d6e83f89e2>\u001b[0m in \u001b[0;36m<module>\u001b[0;34m()\u001b[0m\n\u001b[1;32m      3\u001b[0m \u001b[0max1\u001b[0m \u001b[0;34m=\u001b[0m \u001b[0mfig\u001b[0m\u001b[0;34m.\u001b[0m\u001b[0madd_subplot\u001b[0m\u001b[0;34m(\u001b[0m\u001b[0;36m131\u001b[0m\u001b[0;34m)\u001b[0m\u001b[0;34m\u001b[0m\u001b[0m\n\u001b[1;32m      4\u001b[0m \u001b[0;34m\u001b[0m\u001b[0m\n\u001b[0;32m----> 5\u001b[0;31m \u001b[0mdf\u001b[0m \u001b[0;34m=\u001b[0m \u001b[0mpd\u001b[0m\u001b[0;34m.\u001b[0m\u001b[0mDataFrame\u001b[0m\u001b[0;34m(\u001b[0m\u001b[0mnormdata\u001b[0m\u001b[0;34m,\u001b[0m\u001b[0mindex\u001b[0m\u001b[0;34m=\u001b[0m\u001b[0mlabels\u001b[0m\u001b[0;34m)\u001b[0m\u001b[0;34m\u001b[0m\u001b[0m\n\u001b[0m\u001b[1;32m      6\u001b[0m \u001b[0mdfplot\u001b[0m \u001b[0;34m=\u001b[0m \u001b[0mdf\u001b[0m\u001b[0;34m.\u001b[0m\u001b[0mplot\u001b[0m\u001b[0;34m(\u001b[0m\u001b[0mkind\u001b[0m\u001b[0;34m=\u001b[0m\u001b[0;34m'barh'\u001b[0m\u001b[0;34m,\u001b[0m\u001b[0mstacked\u001b[0m\u001b[0;34m=\u001b[0m\u001b[0mTrue\u001b[0m\u001b[0;34m,\u001b[0m\u001b[0max\u001b[0m\u001b[0;34m=\u001b[0m\u001b[0max1\u001b[0m\u001b[0;34m,\u001b[0m\u001b[0mcolor\u001b[0m\u001b[0;34m=\u001b[0m\u001b[0mgencolors\u001b[0m\u001b[0;34m,\u001b[0m\u001b[0mlegend\u001b[0m\u001b[0;34m=\u001b[0m\u001b[0mFalse\u001b[0m\u001b[0;34m)\u001b[0m\u001b[0;34m\u001b[0m\u001b[0m\n\u001b[1;32m      7\u001b[0m \u001b[0;34m\u001b[0m\u001b[0m\n",
      "\u001b[0;31mNameError\u001b[0m: name 'normdata' is not defined"
     ]
    },
    {
     "data": {
      "image/png": "[encoded data removed]",
      "text/plain": [
       "<matplotlib.figure.Figure at 0x10c9a6510>"
      ]
     },
     "metadata": {},
     "output_type": "display_data"
    }
   ],
   "source": [
    "# Plot stacked bar chart\n",
    "fig = plt.figure(1,(18,6))\n",
    "ax1 = fig.add_subplot(131)\n",
    "\n",
    "df = pd.DataFrame(normdata,index=labels)\n",
    "dfplot = df.plot(kind='barh',stacked=True,ax=ax1,color=gencolors,legend=False)\n",
    "\n",
    "print df\n",
    "\n",
    "# Find data positions of the plots\n",
    "\n",
    "patches = dfplot.patches\n",
    "yc = [p.get_y() for p in patches]\n",
    "yc = yc[:int(len(yc)/2)]\n",
    "height = p.get_height()\n",
    "\n",
    "ylims1 = ax1.get_ylim()\n",
    "ax1.vlines(0.5,ylims1[0],ylims1[1],color='k',linestyle='-')\n",
    "\n",
    "def getfrac(m,f):\n",
    "    return m/(f+m)\n",
    "\n",
    "\n",
    "# Speaker/questioner data from 225th AAS Meeting (Seattle, WA)\n",
    "# Data from https://github.com/jradavenport/aas225-gender\n",
    "\n",
    "aas225_speakers = getfrac(83,51)\n",
    "aas225_questionaskers = getfrac(305,73)\n",
    "aas225_firstquestion = getfrac(102,32)\n",
    "\n",
    "ax1.vlines(aas225_speakers,yc[-1],yc[-1]+height,color='g',linestyle='--')\n",
    "ax1.vlines(aas225_questionaskers,yc[-4],yc[-4]+height,color='g',linestyle='--')\n",
    "ax1.vlines(aas225_firstquestion,yc[-5],yc[-5]+height,color='g',linestyle='--')\n",
    "\n",
    "ax1.text(aas225_speakers,yc[-1]+height,'AAS',ha='center',va='bottom',fontsize=14,color='g')\n",
    "\n",
    "ax1.set_xlabel('Fraction of participants',fontsize=20)\n",
    "\n",
    "p,l = ax1.get_legend_handles_labels()\n",
    "ax1.legend(p,l,loc='upper left')\n",
    "\n",
    "ax1.set_title('AGN2015 vs. speakers at AAS 2015 Winter')\n",
    "\n",
    "# Speaker/questioner data from National Astronomy Meeting 2014 (Portsmouth, UK)\n",
    "# Data from Pritchard et al. (2014) http://arXiv.org/abs/1412.4571\n",
    "\n",
    "ax2 = fig.add_subplot(132)\n",
    "dfblank = pd.DataFrame(normdata,index=[' ']*5)\n",
    "dfplot2 = dfblank.plot(kind='barh',stacked=True,ax=ax2,color=gencolors,legend=False)\n",
    "\n",
    "nam_speakers = getfrac(181,81)\n",
    "nam_chairs = getfrac(188,75)\n",
    "nam_attendees = getfrac(452,172)\n",
    "nam_questionaskers = getfrac(476,101)\n",
    "nam_firstquestion = getfrac(216,35)\n",
    "\n",
    "ylims2 = ax2.get_ylim()\n",
    "ax2.vlines(0.5,ylims2[0],ylims2[1],color='k',linestyle='-')\n",
    "\n",
    "ax2.vlines(nam_speakers,yc[-1],yc[-1]+height,color='g',linestyle='--')\n",
    "ax2.vlines(nam_chairs,yc[-2],yc[-2]+height,color='g',linestyle='--')\n",
    "ax2.vlines(nam_attendees,yc[-3],yc[-3]+height,color='g',linestyle='--')\n",
    "ax2.vlines(nam_questionaskers,yc[-4],yc[-4]+height,color='g',linestyle='--')\n",
    "ax2.vlines(nam_firstquestion,yc[-5],yc[-5]+height,color='g',linestyle='--')\n",
    "\n",
    "ax2.text(nam_speakers,yc[-1]+height,'NAM',ha='center',va='bottom',fontsize=14,color='g')\n",
    "\n",
    "ax2.set_xlabel('Fraction of participants',fontsize=20)\n",
    "\n",
    "ax2.set_title('AGN2015 vs. NAM 2014')\n",
    "\n",
    "# IAU individual members (as of Apr 2015)\n",
    "# Data from http://www.iau.org/administration/membership/individual/distribution/\n",
    "\n",
    "ax3 = fig.add_subplot(133)\n",
    "dfplot3 = dfblank.plot(kind='barh',stacked=True,ax=ax3,color=gencolors,legend=False)\n",
    "iau_frac = getfrac(9546,1803)\n",
    "ylims3 = ax3.get_ylim()\n",
    "ax3.vlines(0.5,ylims3[0],ylims3[1],color='k',linestyle='-')\n",
    "ax3.vlines(iau_frac,ylims3[0],yc[-1]+height,color='g',linestyle='--')\n",
    "ax3.text(iau_frac*1.02,yc[-1]+height,'IAU',ha='center',va='bottom',fontsize=14,color='g')\n",
    "\n",
    "ax3.set_xlabel('Fraction of participants',fontsize=20)\n",
    "\n",
    "ax3.set_title('AGN2015 vs. IAU individual members')\n",
    "\n",
    "# Speaker/questioner data from AGN2015 Meeting (Chile)\n",
    "# Data from xxxxx.\n",
    "\n",
    "#agn2015_speakers = getfrac(x,x)\n",
    "#agn2015_questionaskers = getfrac(x,x)\n",
    "#agn2015_firstquestion = getfrac(x,x)\n",
    "                        \n",
    "agn2015_firstquestion  =0.614286 \n",
    "agn2015_questionaskers = 0.641509 \n",
    "agn2015_attendees = 0.564246\n",
    "agn2015_chairs    = 0.785714\n",
    "agn2015_speakers  = 0.549296\n",
    "\n",
    "ax4.vlines(agn2015_speakers,yc[-1],yc[-1]+height,color='g',linestyle='--')\n",
    "ax4.vlines(agn2015_questionaskers,yc[-4],yc[-4]+height,color='g',linestyle='--')\n",
    "ax4.vlines(agn2015_firstquestion,yc[-5],yc[-5]+height,color='g',linestyle='--')\n",
    "\n",
    "ax4.text(agn2015_speakers,yc[-1]+height,'AGN2015',ha='center',va='bottom',fontsize=14,color='g')\n",
    "ax4.set_xlabel('Fraction of participants',fontsize=20)\n",
    "\n",
    "p,l = ax4.get_legend_handles_labels()\n",
    "ax4.legend(p,l,loc='upper left')\n",
    "\n",
    "ax4.set_title('POE2015 vs. AGN2015')"
   ]
  },
  {
   "cell_type": "markdown",
   "metadata": {},
   "source": [
    "### Analysis of the demographics compared to other meetings/organizations:"
   ]
  },
  {
   "cell_type": "markdown",
   "metadata": {},
   "source": [
    "Smaller sample size. Frequent-questioners."
   ]
  },
  {
   "cell_type": "markdown",
   "metadata": {},
   "source": [
    "## How many questions per talk were there? Was this affected by the gender of the speaker?"
   ]
  },
  {
   "cell_type": "code",
   "execution_count": 3,
   "metadata": {
    "collapsed": false
   },
   "outputs": [
    {
     "data": {
      "image/png": "[encoded data removed]",
      "text/plain": [
       "<matplotlib.figure.Figure at 0x1043e4290>"
      ]
     },
     "metadata": {},
     "output_type": "display_data"
    },
    {
     "name": "stdout",
     "output_type": "stream",
     "text": [
      "There are 3.0 +- 1.4 total questions per talk\n",
      "There are 2.8 questions per talk when the speaker is male\n",
      "There are 3.3 questions per talk when the speaker is female \n",
      "There is a 41.2 percent chance that the questions are drawn from the same distribution for male and female speakers.\n"
     ]
    }
   ],
   "source": [
    "# How many questions were there per talk? Did the gender of the speaker affect it?\n",
    "\n",
    "fig2 = plt.figure(2,(12,6))\n",
    "ax4 = fig2.add_subplot(121)\n",
    "qpt = [len(x) for x in q['questions']]\n",
    "ax4.hist(qpt,bins=range(0,8),histtype='step',range=(0,8),linewidth=3, color='k')\n",
    "ylims4 = ax4.get_ylim()\n",
    "ax4.vlines(np.mean(qpt),ylims4[0],ylims4[1],linestyle='--',color='black')\n",
    "ax4.set_xlabel('Questions per talk',fontsize=16)\n",
    "ax4.set_ylabel('Count')\n",
    "\n",
    "ax5 = fig2.add_subplot(122)\n",
    "mq = [len(x[1]['questions']) for x in q.iterrows() if x[1]['speaker'] == 'M']\n",
    "fq = [len(x[1]['questions']) for x in q.iterrows() if x[1]['speaker'] == 'F']\n",
    "ax5.hist(mq,bins=range(0,8),histtype='step',range=(0,8),linewidth=3, color='purple',label='Male speaker')\n",
    "ax5.hist(fq,bins=range(0,8),histtype='step',range=(0,8),linewidth=3, color='orange',label='Female speaker')\n",
    "ax5.set_ylim(ax4.get_ylim())\n",
    "ylims5 = ax5.get_ylim()\n",
    "ax5.vlines(np.mean(mq),ylims5[0],ylims5[1],linestyle='--',color='purple')\n",
    "ax5.vlines(np.mean(fq),ylims5[0],ylims5[1],linestyle='--',color='orange')\n",
    "ax5.set_xlabel('Questions per talk',fontsize=16)\n",
    "ax5.legend(loc='upper right')\n",
    "\n",
    "plt.show()\n",
    "\n",
    "# Test to see if the distribution is different for male vs. female speakers\n",
    "\n",
    "from scipy.stats import ks_2samp\n",
    "\n",
    "D,p = ks_2samp(mq,fq)\n",
    "print 'There are %.1f +- %.1f total questions per talk' % (np.mean(qpt),np.std(qpt))\n",
    "print 'There are %.1f questions per talk when the speaker is male' % np.mean(mq)\n",
    "print 'There are %.1f questions per talk when the speaker is female ' % np.mean(fq)\n",
    "print 'There is a %.1f percent chance that the questions are drawn from the same distribution for male and female speakers.' % (p*100)"
   ]
  },
  {
   "cell_type": "markdown",
   "metadata": {},
   "source": [
    "\n",
    "\n",
    "A difference in the number of questions per talk depending on the speaker might be interpreted as either a positive or negative effect (preferentially ignoring speakers of certain genders, overaggressively questioning/harassing them, paying attention and engaging with them, etc). More analysis on this data set would be pure speculation from me as to which was responsible at this conference. \n"
   ]
  },
  {
   "cell_type": "markdown",
   "metadata": {},
   "source": [
    "## Did the gender of people of asking questions depend on the speaker's gender?"
   ]
  },
  {
   "cell_type": "code",
   "execution_count": 4,
   "metadata": {
    "collapsed": false
   },
   "outputs": [
    {
     "name": "stdout",
     "output_type": "stream",
     "text": [
      "                                 M         F\n",
      "Male asks 1st question    0.694444  0.305556\n",
      "Female asks 1st question  0.586538  0.413462\n",
      "\n",
      "[2 rows x 2 columns]\n"
     ]
    },
    {
     "data": {
      "text/plain": [
       "<matplotlib.text.Text at 0x10a578b10>"
      ]
     },
     "execution_count": 4,
     "metadata": {},
     "output_type": "execute_result"
    },
    {
     "data": {
      "image/png": "[encoded data removed]",
      "text/plain": [
       "<matplotlib.figure.Figure at 0x10a46f750>"
      ]
     },
     "metadata": {},
     "output_type": "display_data"
    }
   ],
   "source": [
    "fig3 = plt.figure(3,(6,6))\n",
    "\n",
    "malefirst_maleafter = ['M'*x[1]['questions'].count('M') for x in q.iterrows() if x[1]['speaker'] == 'M']\n",
    "malefirst_femaleafter = ['F'*x[1]['questions'].count('F') for x in q.iterrows() if x[1]['speaker'] == 'M']\n",
    "femalefirst_maleafter = ['M'*x[1]['questions'].count('M') for x in q.iterrows() if x[1]['speaker'] == 'F']\n",
    "femalefirst_femaleafter = [\"F\"*x[1]['questions'].count('F') for x in q.iterrows() if x[1]['speaker'] == 'F']\n",
    "vc_malefirst = pd.value_counts(list(''.join(malefirst_maleafter+malefirst_femaleafter)))\n",
    "vc_femalefirst = pd.value_counts(list(''.join(femalefirst_maleafter+femalefirst_femaleafter)))\n",
    "\n",
    "# Load everything into a single dataframe\n",
    "\n",
    "firstdata = [vc_malefirst,vc_femalefirst]\n",
    "firstlabels = ['Male asks 1st question','Female asks 1st question']\n",
    "\n",
    "firstnormdata = [x/x.sum() for x in firstdata]\n",
    "df = pd.DataFrame(firstnormdata,index=firstlabels)\n",
    "\n",
    "print df\n",
    "\n",
    "# Plot stacked bar chart\n",
    "\n",
    "ax = fig3.add_subplot(111)\n",
    "dfplot = df.plot(kind='barh',stacked=True,ax=ax,color=gencolors,legend=True)\n",
    "\n",
    "ax.set_xlabel('Fraction of total questions',fontsize=20)"
   ]
  },
  {
   "cell_type": "markdown",
   "metadata": {},
   "source": [
    "When women ask the **first** question in a session, women ask on average 40% of the total number of questions in such sessions. However, when men ask the first question in a session, women only ask 31% of the total questions in the session.\n",
    "\n",
    "But this is clearly affected by the fact that the gender of the first question is fixed. To isolate that effect, let's look at the *remaining* questions in the session. "
   ]
  },
  {
   "cell_type": "code",
   "execution_count": 5,
   "metadata": {
    "collapsed": false
   },
   "outputs": [
    {
     "name": "stdout",
     "output_type": "stream",
     "text": [
      "                                 M         F\n",
      "Male asks 1st question    0.666667  0.333333\n",
      "Female asks 1st question  0.637931  0.362069\n",
      "\n",
      "[2 rows x 2 columns]\n",
      "z = 0.354\n"
     ]
    },
    {
     "data": {
      "image/png": "[encoded data removed]",
      "text/plain": [
       "<matplotlib.figure.Figure at 0x10c23e290>"
      ]
     },
     "metadata": {},
     "output_type": "display_data"
    }
   ],
   "source": [
    "malefirst_maleafter = ['M'*x[1]['questions'][1:].count('M') for x in q.iterrows() if x[1]['questions'][0] == 'M']\n",
    "malefirst_femaleafter = ['F'*x[1]['questions'][1:].count('F') for x in q.iterrows() if x[1]['questions'][0] == 'M']\n",
    "vc_malefirst_remaining = pd.value_counts(list(''.join(malefirst_maleafter+malefirst_femaleafter)))\n",
    "\n",
    "femalefirst_maleafter = ['M'*x[1]['questions'][1:].count('M') for x in q.iterrows() if x[1]['questions'][0] == 'F']\n",
    "femalefirst_femaleafter = [\"F\"*x[1]['questions'][1:].count('F') for x in q.iterrows() if x[1]['questions'][0] == 'F']\n",
    "vc_femalefirst_remaining = pd.value_counts(list(''.join(femalefirst_maleafter+femalefirst_femaleafter)))\n",
    "\n",
    "# Load everything into a single dataframe\n",
    "\n",
    "firstrdata = [vc_malefirst_remaining,vc_femalefirst_remaining]\n",
    "firstrlabels = ['Male asks 1st question','Female asks 1st question']\n",
    "\n",
    "firstrnormdata = [x/x.sum() for x in firstrdata]\n",
    "#print firstrnormdata\n",
    "dfr = pd.DataFrame(firstrnormdata,index=firstrlabels)\n",
    "\n",
    "print dfr\n",
    "\n",
    "# Plot stacked bar chart\n",
    "\n",
    "fig = plt.figure(4,(6,6))\n",
    "ax8 = fig.add_subplot(111)\n",
    "dfplot = dfr.plot(kind='barh',stacked=True,ax=ax8,color=gencolors,legend=True)\n",
    "\n",
    "ax8.set_xlabel('Fraction of remaining questions',fontsize=16)\n",
    "ax8.set_xlim(0,1)\n",
    "\n",
    "# Check statistical significance\n",
    "# http://stats.stackexchange.com/questions/113602/test-if-two-binomial-distributions-are-statistically-different-from-each-other\n",
    "\n",
    "def ztest(p1,p2,n1,n2):\n",
    "    pexp = (n1*p1exp + n2*p2exp) / (n1+n2)\n",
    "    z = (p1exp-p2exp) / np.sqrt(pexp*(1. - pexp)*(1/n1 + 1/n2))\n",
    "    return z\n",
    "\n",
    "p1exp,p2exp = dfr['M']\n",
    "n1 = len(list(''.join(malefirst_maleafter+malefirst_femaleafter)))\n",
    "n2 = len(list(''.join(femalefirst_maleafter+femalefirst_femaleafter)))\n",
    "z = ztest(p1exp,p2exp,n1,n2)\n",
    "print 'z = %.3f' % z"
   ]
  },
  {
   "cell_type": "markdown",
   "metadata": {},
   "source": [
    "When the first question is eliminated from the data, the fraction of questions asked by females are nearly identical for females and males (33% and 36%, respectively). A two-proportion $z$-test indicates the distributions cannot reject the null hypothesis at $<1\\sigma$ level. \n",
    "\n",
    "This result differs from the AAS meeting data, who found an extremely strong difference between the two. If the first question was asked by a male, then only 10% of the remaining questions were asked by a female. If the first question was asked by a female, 49% of the remaining questions were asked by a female. "
   ]
  },
  {
   "cell_type": "markdown",
   "metadata": {},
   "source": [
    "## Does the gender of the session chair affect the distribution of the questioners' gender?"
   ]
  },
  {
   "cell_type": "code",
   "execution_count": 6,
   "metadata": {
    "collapsed": false
   },
   "outputs": [
    {
     "name": "stdout",
     "output_type": "stream",
     "text": [
      "                     M         F\n",
      "Male chair    0.640000  0.360000\n",
      "Female chair  0.648649  0.351351\n",
      "\n",
      "[2 rows x 2 columns]\n"
     ]
    },
    {
     "data": {
      "image/png": "[encoded data removed]",
      "text/plain": [
       "<matplotlib.figure.Figure at 0x10c3a31d0>"
      ]
     },
     "metadata": {},
     "output_type": "display_data"
    }
   ],
   "source": [
    "cdict = {}\n",
    "for k,v in zip(c['block'].values,c['gender'].values):\n",
    "    cdict[k]=v\n",
    "\n",
    "malechair_maleafter = ['M'*x[1]['questions'].count('M') for x in q.iterrows() if cdict[int(str(x[1]['session']).split('.')[0])] == 'M']\n",
    "malechair_femaleafter = ['F'*x[1]['questions'].count('F') for x in q.iterrows() if cdict[int(str(x[1]['session']).split('.')[0])] == 'M']\n",
    "femalechair_maleafter = ['M'*x[1]['questions'].count('M') for x in q.iterrows() if cdict[int(str(x[1]['session']).split('.')[0])] == 'F']\n",
    "femalechair_femaleafter = [\"F\"*x[1]['questions'].count('F') for x in q.iterrows() if cdict[int(str(x[1]['session']).split('.')[0])] == 'F']\n",
    "vc_malechair = pd.value_counts(list(''.join(malechair_maleafter+malechair_femaleafter)))\n",
    "vc_femalechair = pd.value_counts(list(''.join(femalechair_maleafter+femalechair_femaleafter)))\n",
    "\n",
    "# Load everything into a single dataframe\n",
    "\n",
    "chairdata = [vc_malechair,vc_femalechair]\n",
    "chairlabels = ['Male chair','Female chair']\n",
    "\n",
    "chairnormdata = [x/x.sum() for x in chairdata]\n",
    "df = pd.DataFrame(chairnormdata,index=chairlabels)\n",
    "\n",
    "print df\n",
    "\n",
    "# Plot stacked bar chart\n",
    "fig5 = plt.figure(3,(6,6))\n",
    "ax = fig5.add_subplot(111)\n",
    "dfplot = df.plot(kind='barh',stacked=True,ax=ax,color=gencolors,legend=True)\n",
    "\n",
    "ax.set_xlabel('Fraction of total questions',fontsize=20)\n",
    "\n",
    "# Check statistical significance\n",
    "\n",
    "p1exp,p2exp = df['M']\n",
    "n1 = len(list(''.join(malechair_maleafter+malechair_femaleafter)))\n",
    "n2 = len(list(''.join(femalechair_maleafter+femalechair_femaleafter)))\n",
    "z = ztest(p1exp,p2exp,n1,n2)"
   ]
  },
  {
   "cell_type": "markdown",
   "metadata": {},
   "source": [
    "When looking at the gender of the session chair (who might have selection biases when there are more questions than time permits), there is no difference in the gender distribution of questioners. In this case the data are nearly identical for male vs. female chairs, at 36% and 35% females respectively. \n",
    "\n",
    "This null result differs from the NAM data, who saw a small but significant decrease in the fraction of females asking questions when the chair was male (16%) as opposed to a female chair (22%). "
   ]
  },
  {
   "cell_type": "markdown",
   "metadata": {},
   "source": [
    "## Is there a bias due to frequent questioners?"
   ]
  },
  {
   "cell_type": "code",
   "execution_count": null,
   "metadata": {
    "collapsed": true
   },
   "outputs": [],
   "source": [
    "## sort on number of questions per unique personal identifier\n",
    "## what happens is we exclude the X outliers?"
   ]
  },
  {
   "cell_type": "markdown",
   "metadata": {},
   "source": []
  },
  {
   "cell_type": "markdown",
   "metadata": {},
   "source": [
    "## (Some) conclusions"
   ]
  },
  {
   "cell_type": "markdown",
   "metadata": {},
   "source": [
    "Priors.\n",
    "\n",
    "Integrate this with the AGN2015, to get sample size $N>>1$.\n",
    "First step, clone the chile2015 github / ipython notebook.\n",
    "\n",
    "The following can be taken from comparing the results for POE2015 with previous specialized (AGN2015) and general (AAS, NAM) meetings:\n",
    "\n",
    "* both the attendees and questioners had significantly higher female/male ratios than the NAM or AAS meetings\n",
    "* the male/female ratio was similar for both attendees and speakers, meaning that there was no apparent preference towards which gender got the opportunity to give a talk\n",
    "* both male and female speakers received about the same number of questions per talk\n",
    "* the gender of the first person to ask a question didn't affect subsequent questions\n",
    "* the gender of the session chair didn't affect subsequent questions\n",
    "\n",
    "*Thanks to POE215 for organising the meeting. Thanks to Kyle Willett, James Davenport, Jonathan Pritchard, and Karen Masters for their previous hard work at the AGN2015, AAS, and NAM meetings.*"
   ]
  },
  {
   "cell_type": "code",
   "execution_count": 6,
   "metadata": {
    "collapsed": false
   },
   "outputs": [],
   "source": []
  }
 ],
 "metadata": {
  "kernelspec": {
   "display_name": "Python 2",
   "language": "python",
   "name": "python2"
  },
  "language_info": {
   "codemirror_mode": {
    "name": "ipython",
    "version": 2
   },
   "file_extension": ".py",
   "mimetype": "text/x-python",
   "name": "python",
   "nbconvert_exporter": "python",
   "pygments_lexer": "ipython2",
   "version": "2.7.9"
  }
 },
 "nbformat": 4,
 "nbformat_minor": 0
}
