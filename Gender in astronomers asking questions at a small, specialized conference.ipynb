{
 "metadata": {
  "name": "",
  "signature": "sha256:8c812cee13103d4535dfca78ea98cd2f3722f774c63fd1f9de67589dff11ec20"
 },
 "nbformat": 3,
 "nbformat_minor": 0,
 "worksheets": [
  {
   "cells": [
    {
     "cell_type": "heading",
     "level": 1,
     "metadata": {},
     "source": [
      "Gender representation at astronomy conferences"
     ]
    },
    {
     "cell_type": "markdown",
     "metadata": {},
     "source": [
      "Recently, members of the astronomy community have started to track participation at conferences as a function of gender, particularly relating to question/answer sessions after oral presentations. This is intended to address some basic questions about behavior at conferences, such as:\n",
      "\n",
      "* How equal are the allotments of talks among men and women?\n",
      "* Are men and women asking questions at the same rate?\n",
      "* Does it matter if the speaker/session chair is a man or a woman?\n",
      "* Are women/men more likely to ask the ***first*** question in a session? Does this affect the gender balance of remaining questions?\n",
      "\n",
      "In the broader sense, this is intended to measure if our collective behavior at conferences --- in choosing speakers, engaging with them, and interacting with the audience --- is as inclusive as it should be. If not, then hopefully the community can come up with some ideas of best practices to follow and alleviate some of these trends. \n",
      "\n",
      "Data-gathering efforts were first led by James Davenport at the [223rd American Astronomical Society (AAS) meeting in 2014](http://www.ifweassume.com/2014/03/report-gender-in-aas-talks.html), and repeated at the [225th AAS meeting in 2015](http://nbviewer.ipython.org/github/jradavenport/aas225-gender/blob/master/analysis.ipynb) and the [National Astronomy Meeting (NAM) in the UK in 2014](http://arxiv.org/abs/1412.4571). These focus on question/answer sessions since these are public, quantifiable, and one of the main ways in which professional interaction takes place. These studies found that men ask disproportionally more questions than women, and that the gender of the session chair has a strong impact on the gender ratio of questioners. However, there aren't any data (yet) on whether smaller, more specialized meetings follow the same trends as AAS and NAM, which are much larger and thematically broader overall.  \n",
      "\n",
      "I tracked this data for a recent conference on \"**Unveiling the AGN-Galaxy Evolution Connection**\". It was held in Puerto Varas, Chile from [9-13 March 2015](http://www.astro-udec.cl/agn15/). There were a total of 200 people on the list of participants. A one-person team [(me)](https://twitter.com/kwwillett) kept track of the gender of speakers, chairs, and questioners for all of the 72 talks given at the conference (hereafter referred to as <span style=\"color:red\">AGN2015</span>). Here are the results. "
     ]
    },
    {
     "cell_type": "heading",
     "level": 2,
     "metadata": {},
     "source": [
      "What are the overall demographics of the conference?"
     ]
    },
    {
     "cell_type": "code",
     "collapsed": false,
     "input": [
      "%pylab inline\n",
      "\n",
      "'''\n",
      "Note: this notebook requires the following, fairly standard Python packages:\n",
      "\n",
      "    numpy\n",
      "    scipy\n",
      "    matplotlib\n",
      "    pandas\n",
      "    \n",
      "And one not-as-common package (also available through PyPI):\n",
      "\n",
      "    sexmachine\n",
      "'''\n",
      "\n",
      "from __future__ import division\n",
      "from matplotlib import pyplot as plt\n",
      "import numpy as np\n",
      "import pandas as pd\n",
      "\n",
      "gencolors =('purple','orange')\n",
      "urlbase = 'https://raw.githubusercontent.com/willettk/chile2015-gender/master'\n",
      "q = pd.read_csv('%s/question_data.csv' % urlbase)\n",
      "c = pd.read_csv('%s/chair_data.csv' % urlbase)\n",
      "\n",
      "fig = plt.figure(1,(6,6))\n",
      "\n",
      "# Speakers\n",
      "vc_speakers = q['speaker'].value_counts()\n",
      "\n",
      "# People asking questions of the speakers\n",
      "qa=list(q['questions'])\n",
      "qa.remove(' ')\n",
      "vc_questioners = pd.value_counts(list(''.join(qa)))\n",
      "\n",
      "# Chairs of the sessions\n",
      "vc_chairs = c['gender'].value_counts()\n",
      "\n",
      "# Attendees\n",
      "countrydata = pd.read_csv('%s/map/countries.csv' % urlbase)\n",
      "names = countrydata['name']\n",
      "firstnames = [x.split(' ')[0] for x in names]\n",
      "\n",
      "# Guess (based on first names) what gender the attendees are\n",
      "from sexmachine import detector as gender\n",
      "d = gender.Detector(case_sensitive=False)\n",
      "from collections import Counter\n",
      "genders = [d.get_gender(fn) for fn in firstnames]\n",
      "cg = Counter(genders)\n",
      "attendees = list('M'*(cg['male'] + cg['mostly_male'])+'F'*(cg['female'] + cg['mostly_female']))\n",
      "# Ignores users whose gender cannot be reliably determined from first name\n",
      "vc_attendees = pd.value_counts(attendees)\n",
      "\n",
      "# People who asked the first question of the speakers\n",
      "first = [x[1]['questions'][0] for x in q.iterrows()]\n",
      "first.remove(' ')\n",
      "vc_firstquestion = pd.value_counts(first)\n",
      "\n",
      "# Load everything into a single dataframe\n",
      "\n",
      "data = [vc_speakers,vc_chairs,vc_attendees,vc_questioners,vc_firstquestion][::-1]\n",
      "labels = ['Speakers','Chairs','Attendees','Questioners','First question'][::-1]\n",
      "\n",
      "normdata = [x/x.sum() for x in data]\n",
      "\n",
      "# Plot stacked bar chart\n",
      "\n",
      "ax1 = fig.add_subplot(111)\n",
      "df = pd.DataFrame(normdata,index=labels)\n",
      "dfplot = df.plot(kind='barh',stacked=True,ax=ax1,color=gencolors,legend=True)\n",
      "\n",
      "print df\n",
      "\n",
      "# Plot the 50-50 split for guidance\n",
      "\n",
      "ylims1 = ax1.get_ylim()\n",
      "ax1.vlines(0.5,ylims1[0],ylims1[1],color='k',linestyle='-')\n",
      "\n",
      "ax1.set_xlabel('Fraction of participants',fontsize=20)\n",
      "ax1.set_title('Overall demographics at the AGN2015 meeting')"
     ],
     "language": "python",
     "metadata": {},
     "outputs": [
      {
       "output_type": "stream",
       "stream": "stdout",
       "text": [
        "Populating the interactive namespace from numpy and matplotlib\n",
        "                       M         F\n",
        "First question  0.614286  0.385714\n",
        "Questioners     0.641509  0.358491\n",
        "Attendees       0.564246  0.435754\n",
        "Chairs          0.785714  0.214286\n",
        "Speakers        0.549296  0.450704\n",
        "\n",
        "[5 rows x 2 columns]"
       ]
      },
      {
       "output_type": "stream",
       "stream": "stdout",
       "text": [
        "\n"
       ]
      },
      {
       "metadata": {},
       "output_type": "pyout",
       "prompt_number": 1,
       "text": [
        "<matplotlib.text.Text at 0x1079339d0>"
       ]
      },
      {
       "metadata": {},
       "output_type": "display_data",
       "png": "[encoded data removed]",
       "text": [
        "<matplotlib.figure.Figure at 0x1078bcdd0>"
       ]
      }
     ],
     "prompt_number": 1
    },
    {
     "cell_type": "heading",
     "level": 3,
     "metadata": {},
     "source": [
      "Analysis of overall demographics:"
     ]
    },
    {
     "cell_type": "markdown",
     "metadata": {},
     "source": [
      "I tracked gender participation for five aspects of the question/answer sessions:\n",
      "\n",
      "***\n",
      "* speakers\n",
      "* chairs of the sessions\n",
      "* all attendees of the conference\n",
      "* people who asked questions of the speaker\n",
      "* people who asked the **first** question of the speaker for any given talk\n",
      "***\n",
      "\n",
      "Every one of these categories had more male than female participants. The gender ratio of the speakers closely matched that of the attendees as a whole (45% and 43%, respectively). \n",
      "\n",
      "Women were slightly less likely to ask questions than men; women constituted 43% of the attendees, but only 35% of the people asking questions. \n",
      "\n",
      "The gender of people who asked the first question in a given session is close to that of the overall gender of questioners (38% vs 35%). "
     ]
    },
    {
     "cell_type": "heading",
     "level": 2,
     "metadata": {},
     "source": [
      "Overall demographics for <span style=\"color:red\">AGN2015</span> compared to other conferences"
     ]
    },
    {
     "cell_type": "code",
     "collapsed": false,
     "input": [
      "# Plot stacked bar chart\n",
      "fig = plt.figure(1,(18,6))\n",
      "ax1 = fig.add_subplot(131)\n",
      "\n",
      "df = pd.DataFrame(normdata,index=labels)\n",
      "dfplot = df.plot(kind='barh',stacked=True,ax=ax1,color=gencolors,legend=False)\n",
      "\n",
      "print df\n",
      "\n",
      "# Find data positions of the plots\n",
      "\n",
      "patches = dfplot.patches\n",
      "yc = [p.get_y() for p in patches]\n",
      "yc = yc[:int(len(yc)/2)]\n",
      "height = p.get_height()\n",
      "\n",
      "ylims1 = ax1.get_ylim()\n",
      "ax1.vlines(0.5,ylims1[0],ylims1[1],color='k',linestyle='-')\n",
      "\n",
      "def getfrac(m,f):\n",
      "    return m/(f+m)\n",
      "\n",
      "# Speaker/questioner data from 225th AAS Meeting (Seattle, WA)\n",
      "# Data from https://github.com/jradavenport/aas225-gender\n",
      "\n",
      "aas225_speakers = getfrac(83,51)\n",
      "aas225_questionaskers = getfrac(305,73)\n",
      "aas225_firstquestion = getfrac(102,32)\n",
      "\n",
      "ax1.vlines(aas225_speakers,yc[-1],yc[-1]+height,color='g',linestyle='--')\n",
      "ax1.vlines(aas225_questionaskers,yc[-4],yc[-4]+height,color='g',linestyle='--')\n",
      "ax1.vlines(aas225_firstquestion,yc[-5],yc[-5]+height,color='g',linestyle='--')\n",
      "\n",
      "ax1.text(aas225_speakers,yc[-1]+height,'AAS',ha='center',va='bottom',fontsize=14,color='g')\n",
      "\n",
      "ax1.set_xlabel('Fraction of participants',fontsize=20)\n",
      "\n",
      "p,l = ax1.get_legend_handles_labels()\n",
      "ax1.legend(p,l,loc='upper left')\n",
      "\n",
      "ax1.set_title('AGN2015 vs. speakers at AAS 2015 Winter')\n",
      "\n",
      "# Speaker/questioner data from National Astronomy Meeting 2014 (Portsmouth, UK)\n",
      "# Data from Pritchard et al. (2014) http://arXiv.org/abs/1412.4571\n",
      "\n",
      "ax2 = fig.add_subplot(132)\n",
      "dfblank = pd.DataFrame(normdata,index=[' ']*5)\n",
      "dfplot2 = dfblank.plot(kind='barh',stacked=True,ax=ax2,color=gencolors,legend=False)\n",
      "\n",
      "nam_speakers = getfrac(181,81)\n",
      "nam_chairs = getfrac(188,75)\n",
      "nam_attendees = getfrac(452,172)\n",
      "nam_questionaskers = getfrac(476,101)\n",
      "nam_firstquestion = getfrac(216,35)\n",
      "\n",
      "ylims2 = ax2.get_ylim()\n",
      "ax2.vlines(0.5,ylims2[0],ylims2[1],color='k',linestyle='-')\n",
      "\n",
      "ax2.vlines(nam_speakers,yc[-1],yc[-1]+height,color='g',linestyle='--')\n",
      "ax2.vlines(nam_chairs,yc[-2],yc[-2]+height,color='g',linestyle='--')\n",
      "ax2.vlines(nam_attendees,yc[-3],yc[-3]+height,color='g',linestyle='--')\n",
      "ax2.vlines(nam_questionaskers,yc[-4],yc[-4]+height,color='g',linestyle='--')\n",
      "ax2.vlines(nam_firstquestion,yc[-5],yc[-5]+height,color='g',linestyle='--')\n",
      "\n",
      "ax2.text(nam_speakers,yc[-1]+height,'NAM',ha='center',va='bottom',fontsize=14,color='g')\n",
      "\n",
      "ax2.set_xlabel('Fraction of participants',fontsize=20)\n",
      "\n",
      "ax2.set_title('AGN2015 vs. NAM 2014')\n",
      "\n",
      "# IAU individual members (as of Apr 2015)\n",
      "# Data from http://www.iau.org/administration/membership/individual/distribution/\n",
      "\n",
      "ax3 = fig.add_subplot(133)\n",
      "dfplot3 = dfblank.plot(kind='barh',stacked=True,ax=ax3,color=gencolors,legend=False)\n",
      "iau_frac = getfrac(9546,1803)\n",
      "ylims3 = ax3.get_ylim()\n",
      "ax3.vlines(0.5,ylims3[0],ylims3[1],color='k',linestyle='-')\n",
      "ax3.vlines(iau_frac,ylims3[0],yc[-1]+height,color='g',linestyle='--')\n",
      "ax3.text(iau_frac*1.02,yc[-1]+height,'IAU',ha='center',va='bottom',fontsize=14,color='g')\n",
      "\n",
      "ax3.set_xlabel('Fraction of participants',fontsize=20)\n",
      "\n",
      "ax3.set_title('AGN2015 vs. IAU individual members')"
     ],
     "language": "python",
     "metadata": {},
     "outputs": [
      {
       "output_type": "stream",
       "stream": "stdout",
       "text": [
        "                       M         F\n",
        "First question  0.614286  0.385714\n",
        "Questioners     0.641509  0.358491\n",
        "Attendees       0.564246  0.435754\n",
        "Chairs          0.785714  0.214286\n",
        "Speakers        0.549296  0.450704\n",
        "\n",
        "[5 rows x 2 columns]\n"
       ]
      },
      {
       "metadata": {},
       "output_type": "pyout",
       "prompt_number": 2,
       "text": [
        "<matplotlib.text.Text at 0x10a67f890>"
       ]
      },
      {
       "metadata": {},
       "output_type": "display_data",
       "png": "[encoded data removed]",
       "text": [
        "<matplotlib.figure.Figure at 0x1043e4d90>"
       ]
      }
     ],
     "prompt_number": 2
    },
    {
     "cell_type": "heading",
     "level": 3,
     "metadata": {},
     "source": [
      "Analysis of the demographics compared to other meetings/organizations:"
     ]
    },
    {
     "cell_type": "markdown",
     "metadata": {},
     "source": [
      "The data from the **225th AAS meeting** did not track the gender of either the session chair or the total number of attendees. The <span style=\"color:red\">AGN2015</span> meeting had a higher proportion of women for both the speakers (45% to 38%) and the people asking questions (35% to 19%). \n",
      "\n",
      "The **NAM 2014** meeting tracked data in an identical format to <span style=\"color:red\">AGN2015</span>. The <span style=\"color:red\">AGN2015</span> meeting had a higher percentage of women for speakers, attendees, and question askers. In particular, the gender distribution of people asking questions is twice as high for <span style=\"color:red\">AGN2015</span> (35%) as for NAM (17%). This is driven by the large disparity in gender distribution between attendees and questioners at NAM. The gender of the session chairs is the only category in which NAM has a higher percentage of females than <span style=\"color:red\">AGN2015</span>. However, we note that there were only 14 sessions at <span style=\"color:red\">AGN2015</span>, compared to 64 sessions at NAM. Some (although likely not all) of the high fraction of males at <span style=\"color:red\">AGN2015</span> may be due to the smaller sample size.\n",
      "\n",
      "Finally, we look at the gender representation compared to the most recent data for members of the **International Astronomical Union** (IAU). The IAU is 85% male/15% female, a distribution significantly in excess of every demographic category measured for <span style=\"color:red\">AGN2015</span>. Membership in the IAU is likely not indicative of the astronomical community, especially since the requirements involve nominations by national professional organizations and thus skew toward more senior astronomers (which are more likely to be male). "
     ]
    },
    {
     "cell_type": "heading",
     "level": 2,
     "metadata": {},
     "source": [
      "How many questions per talk were there? Was this affected by the gender of the speaker?"
     ]
    },
    {
     "cell_type": "code",
     "collapsed": false,
     "input": [
      "# How many questions were there per talk? Did the gender of the speaker affect it?\n",
      "\n",
      "fig2 = plt.figure(2,(12,6))\n",
      "ax4 = fig2.add_subplot(121)\n",
      "qpt = [len(x) for x in q['questions']]\n",
      "ax4.hist(qpt,bins=range(0,8),histtype='step',range=(0,8),linewidth=3, color='k')\n",
      "ylims4 = ax4.get_ylim()\n",
      "ax4.vlines(np.mean(qpt),ylims4[0],ylims4[1],linestyle='--',color='black')\n",
      "ax4.set_xlabel('Questions per talk',fontsize=16)\n",
      "ax4.set_ylabel('Count')\n",
      "\n",
      "ax5 = fig2.add_subplot(122)\n",
      "mq = [len(x[1]['questions']) for x in q.iterrows() if x[1]['speaker'] == 'M']\n",
      "fq = [len(x[1]['questions']) for x in q.iterrows() if x[1]['speaker'] == 'F']\n",
      "ax5.hist(mq,bins=range(0,8),histtype='step',range=(0,8),linewidth=3, color='purple',label='Male speaker')\n",
      "ax5.hist(fq,bins=range(0,8),histtype='step',range=(0,8),linewidth=3, color='orange',label='Female speaker')\n",
      "ax5.set_ylim(ax4.get_ylim())\n",
      "ylims5 = ax5.get_ylim()\n",
      "ax5.vlines(np.mean(mq),ylims5[0],ylims5[1],linestyle='--',color='purple')\n",
      "ax5.vlines(np.mean(fq),ylims5[0],ylims5[1],linestyle='--',color='orange')\n",
      "ax5.set_xlabel('Questions per talk',fontsize=16)\n",
      "ax5.legend(loc='upper right')\n",
      "\n",
      "plt.show()\n",
      "\n",
      "# Test to see if the distribution is different for male vs. female speakers\n",
      "\n",
      "from scipy.stats import ks_2samp\n",
      "\n",
      "D,p = ks_2samp(mq,fq)\n",
      "print 'There are %.1f +- %.1f total questions per talk' % (np.mean(qpt),np.std(qpt))\n",
      "print 'There are %.1f questions per talk when the speaker is male' % np.mean(mq)\n",
      "print 'There are %.1f questions per talk when the speaker is female ' % np.mean(fq)\n",
      "print 'There is a %.1f percent chance that the questions are drawn from the same distribution for male and female speakers.' % (p*100)"
     ],
     "language": "python",
     "metadata": {},
     "outputs": [
      {
       "metadata": {},
       "output_type": "display_data",
       "png": "[encoded data removed]",
       "text": [
        "<matplotlib.figure.Figure at 0x1043e4290>"
       ]
      },
      {
       "output_type": "stream",
       "stream": "stdout",
       "text": [
        "There are 3.0 +- 1.4 total questions per talk\n",
        "There are 2.8 questions per talk when the speaker is male\n",
        "There are 3.3 questions per talk when the speaker is female \n",
        "There is a 41.2 percent chance that the questions are drawn from the same distribution for male and female speakers.\n"
       ]
      }
     ],
     "prompt_number": 3
    },
    {
     "cell_type": "markdown",
     "metadata": {},
     "source": [
      "Engagement with the speakers was nicely high at the <span style=\"color:red\">AGN2015</span> conference, with an average of 3 questions per talk being asked. This was higher than the averages for both the NAM $(2.2\\pm1.1)$ and AAS $(2.8\\pm1.5)$ meetings. The number of questions per talk was slightly higher when the speaker was female instead of male, with 3.3 compared to 2.8. However, a two-sided Kolmogorov-Smirnov test gives a 41% chance that the two samples are drawn from the same distribution, with no indication of a statistically significant difference. \n",
      "\n",
      "A difference in the number of questions per talk depending on the speaker might be interpreted as either a positive or negative effect (preferentially ignoring speakers of certain genders, overaggressively questioning/harassing them, paying attention and engaging with them, etc). More analysis on this data set would be pure speculation from me as to which was responsible at this conference. "
     ]
    },
    {
     "cell_type": "heading",
     "level": 2,
     "metadata": {},
     "source": [
      "Did the gender of people of asking questions depend on the speaker's gender?"
     ]
    },
    {
     "cell_type": "code",
     "collapsed": false,
     "input": [
      "fig3 = plt.figure(3,(6,6))\n",
      "\n",
      "malefirst_maleafter = ['M'*x[1]['questions'].count('M') for x in q.iterrows() if x[1]['speaker'] == 'M']\n",
      "malefirst_femaleafter = ['F'*x[1]['questions'].count('F') for x in q.iterrows() if x[1]['speaker'] == 'M']\n",
      "femalefirst_maleafter = ['M'*x[1]['questions'].count('M') for x in q.iterrows() if x[1]['speaker'] == 'F']\n",
      "femalefirst_femaleafter = [\"F\"*x[1]['questions'].count('F') for x in q.iterrows() if x[1]['speaker'] == 'F']\n",
      "vc_malefirst = pd.value_counts(list(''.join(malefirst_maleafter+malefirst_femaleafter)))\n",
      "vc_femalefirst = pd.value_counts(list(''.join(femalefirst_maleafter+femalefirst_femaleafter)))\n",
      "\n",
      "# Load everything into a single dataframe\n",
      "\n",
      "firstdata = [vc_malefirst,vc_femalefirst]\n",
      "firstlabels = ['Male asks 1st question','Female asks 1st question']\n",
      "\n",
      "firstnormdata = [x/x.sum() for x in firstdata]\n",
      "df = pd.DataFrame(firstnormdata,index=firstlabels)\n",
      "\n",
      "print df\n",
      "\n",
      "# Plot stacked bar chart\n",
      "\n",
      "ax = fig3.add_subplot(111)\n",
      "dfplot = df.plot(kind='barh',stacked=True,ax=ax,color=gencolors,legend=True)\n",
      "\n",
      "ax.set_xlabel('Fraction of total questions',fontsize=20)"
     ],
     "language": "python",
     "metadata": {},
     "outputs": [
      {
       "output_type": "stream",
       "stream": "stdout",
       "text": [
        "                                 M         F\n",
        "Male asks 1st question    0.694444  0.305556\n",
        "Female asks 1st question  0.586538  0.413462\n",
        "\n",
        "[2 rows x 2 columns]\n"
       ]
      },
      {
       "metadata": {},
       "output_type": "pyout",
       "prompt_number": 4,
       "text": [
        "<matplotlib.text.Text at 0x10a578b10>"
       ]
      },
      {
       "metadata": {},
       "output_type": "display_data",
       "png": "[encoded data removed]",
       "text": [
        "<matplotlib.figure.Figure at 0x10a46f750>"
       ]
      }
     ],
     "prompt_number": 4
    },
    {
     "cell_type": "markdown",
     "metadata": {},
     "source": [
      "When women ask the **first** question in a session, women ask on average 40% of the total number of questions in such sessions. However, when men ask the first question in a session, women only ask 31% of the total questions in the session.\n",
      "\n",
      "But this is clearly affected by the fact that the gender of the first question is fixed. To isolate that effect, let's look at the *remaining* questions in the session. "
     ]
    },
    {
     "cell_type": "code",
     "collapsed": false,
     "input": [
      "malefirst_maleafter = ['M'*x[1]['questions'][1:].count('M') for x in q.iterrows() if x[1]['questions'][0] == 'M']\n",
      "malefirst_femaleafter = ['F'*x[1]['questions'][1:].count('F') for x in q.iterrows() if x[1]['questions'][0] == 'M']\n",
      "vc_malefirst_remaining = pd.value_counts(list(''.join(malefirst_maleafter+malefirst_femaleafter)))\n",
      "\n",
      "femalefirst_maleafter = ['M'*x[1]['questions'][1:].count('M') for x in q.iterrows() if x[1]['questions'][0] == 'F']\n",
      "femalefirst_femaleafter = [\"F\"*x[1]['questions'][1:].count('F') for x in q.iterrows() if x[1]['questions'][0] == 'F']\n",
      "vc_femalefirst_remaining = pd.value_counts(list(''.join(femalefirst_maleafter+femalefirst_femaleafter)))\n",
      "\n",
      "# Load everything into a single dataframe\n",
      "\n",
      "firstrdata = [vc_malefirst_remaining,vc_femalefirst_remaining]\n",
      "firstrlabels = ['Male asks 1st question','Female asks 1st question']\n",
      "\n",
      "firstrnormdata = [x/x.sum() for x in firstrdata]\n",
      "#print firstrnormdata\n",
      "dfr = pd.DataFrame(firstrnormdata,index=firstrlabels)\n",
      "\n",
      "print dfr\n",
      "\n",
      "# Plot stacked bar chart\n",
      "\n",
      "fig = plt.figure(4,(6,6))\n",
      "ax8 = fig.add_subplot(111)\n",
      "dfplot = dfr.plot(kind='barh',stacked=True,ax=ax8,color=gencolors,legend=True)\n",
      "\n",
      "ax8.set_xlabel('Fraction of remaining questions',fontsize=16)\n",
      "ax8.set_xlim(0,1)\n",
      "\n",
      "# Check statistical significance\n",
      "# http://stats.stackexchange.com/questions/113602/test-if-two-binomial-distributions-are-statistically-different-from-each-other\n",
      "\n",
      "def ztest(p1,p2,n1,n2):\n",
      "    pexp = (n1*p1exp + n2*p2exp) / (n1+n2)\n",
      "    z = (p1exp-p2exp) / np.sqrt(pexp*(1. - pexp)*(1/n1 + 1/n2))\n",
      "    return z\n",
      "\n",
      "p1exp,p2exp = dfr['M']\n",
      "n1 = len(list(''.join(malefirst_maleafter+malefirst_femaleafter)))\n",
      "n2 = len(list(''.join(femalefirst_maleafter+femalefirst_femaleafter)))\n",
      "z = ztest(p1exp,p2exp,n1,n2)\n",
      "print 'z = %.3f' % z"
     ],
     "language": "python",
     "metadata": {},
     "outputs": [
      {
       "output_type": "stream",
       "stream": "stdout",
       "text": [
        "                                 M         F\n",
        "Male asks 1st question    0.666667  0.333333\n",
        "Female asks 1st question  0.637931  0.362069\n",
        "\n",
        "[2 rows x 2 columns]\n",
        "z = 0.354"
       ]
      },
      {
       "output_type": "stream",
       "stream": "stdout",
       "text": [
        "\n"
       ]
      },
      {
       "metadata": {},
       "output_type": "display_data",
       "png": "[encoded data removed]",
       "text": [
        "<matplotlib.figure.Figure at 0x10c23e290>"
       ]
      }
     ],
     "prompt_number": 5
    },
    {
     "cell_type": "markdown",
     "metadata": {},
     "source": [
      "When the first question is eliminated from the data, the fraction of questions asked by females are nearly identical for females and males (33% and 36%, respectively). A two-proportion $z$-test indicates the distributions cannot reject the null hypothesis at $<1\\sigma$ level. \n",
      "\n",
      "This result differs from the AAS meeting data, who found an extremely strong difference between the two. If the first question was asked by a male, then only 10% of the remaining questions were asked by a female. If the first question was asked by a female, 49% of the remaining questions were asked by a female. "
     ]
    },
    {
     "cell_type": "heading",
     "level": 2,
     "metadata": {},
     "source": [
      "Does the gender of the session chair affect the distribution of the questioners' gender?"
     ]
    },
    {
     "cell_type": "code",
     "collapsed": false,
     "input": [
      "cdict = {}\n",
      "for k,v in zip(c['block'].values,c['gender'].values):\n",
      "    cdict[k]=v\n",
      "\n",
      "malechair_maleafter = ['M'*x[1]['questions'].count('M') for x in q.iterrows() if cdict[int(str(x[1]['session']).split('.')[0])] == 'M']\n",
      "malechair_femaleafter = ['F'*x[1]['questions'].count('F') for x in q.iterrows() if cdict[int(str(x[1]['session']).split('.')[0])] == 'M']\n",
      "femalechair_maleafter = ['M'*x[1]['questions'].count('M') for x in q.iterrows() if cdict[int(str(x[1]['session']).split('.')[0])] == 'F']\n",
      "femalechair_femaleafter = [\"F\"*x[1]['questions'].count('F') for x in q.iterrows() if cdict[int(str(x[1]['session']).split('.')[0])] == 'F']\n",
      "vc_malechair = pd.value_counts(list(''.join(malechair_maleafter+malechair_femaleafter)))\n",
      "vc_femalechair = pd.value_counts(list(''.join(femalechair_maleafter+femalechair_femaleafter)))\n",
      "\n",
      "# Load everything into a single dataframe\n",
      "\n",
      "chairdata = [vc_malechair,vc_femalechair]\n",
      "chairlabels = ['Male chair','Female chair']\n",
      "\n",
      "chairnormdata = [x/x.sum() for x in chairdata]\n",
      "df = pd.DataFrame(chairnormdata,index=chairlabels)\n",
      "\n",
      "print df\n",
      "\n",
      "# Plot stacked bar chart\n",
      "fig5 = plt.figure(3,(6,6))\n",
      "ax = fig5.add_subplot(111)\n",
      "dfplot = df.plot(kind='barh',stacked=True,ax=ax,color=gencolors,legend=True)\n",
      "\n",
      "ax.set_xlabel('Fraction of total questions',fontsize=20)\n",
      "\n",
      "# Check statistical significance\n",
      "\n",
      "p1exp,p2exp = df['M']\n",
      "n1 = len(list(''.join(malechair_maleafter+malechair_femaleafter)))\n",
      "n2 = len(list(''.join(femalechair_maleafter+femalechair_femaleafter)))\n",
      "z = ztest(p1exp,p2exp,n1,n2)"
     ],
     "language": "python",
     "metadata": {},
     "outputs": [
      {
       "output_type": "stream",
       "stream": "stdout",
       "text": [
        "                     M         F\n",
        "Male chair    0.640000  0.360000\n",
        "Female chair  0.648649  0.351351\n",
        "\n",
        "[2 rows x 2 columns]\n"
       ]
      },
      {
       "metadata": {},
       "output_type": "display_data",
       "png": "[encoded data removed]",
       "text": [
        "<matplotlib.figure.Figure at 0x10c3a31d0>"
       ]
      }
     ],
     "prompt_number": 6
    },
    {
     "cell_type": "markdown",
     "metadata": {},
     "source": [
      "When looking at the gender of the session chair (who might have selection biases when there are more questions than time permits), there is no difference in the gender distribution of questioners. In this case the data are nearly identical for male vs. female chairs, at 36% and 35% females respectively. \n",
      "\n",
      "This null result differs from the NAM data, who saw a small but significant decrease in the fraction of females asking questions when the chair was male (16%) as opposed to a female chair (22%). "
     ]
    },
    {
     "cell_type": "heading",
     "level": 2,
     "metadata": {},
     "source": [
      "(Some) conclusions"
     ]
    },
    {
     "cell_type": "markdown",
     "metadata": {},
     "source": [
      "I'm not sure what my expectations were in looking at data for a smaller, specialized meeting vs. a large general meeting like the AAS or NAM. I don't think I would have been hugely surprised by either significant differences or none at all --- I could easily have guessed that a smaller, specialized meeting is more subject to the whims of an SOC (who are more likely to be senior and thus might tend to invite senior colleagues, which would presumably skew the gender ratio towards more males). On the other hand, postdocs and early-career researchers might travel more (without teaching responsibilities mid-semester) and be more invested in giving talks to establish themselves for permanent jobs, which would skew toward younger people and a higher female-male ratio. The demographics of the AGN/galaxy community, the relatively remote conference location in South America, and the timing of the meeting are all priors that should be taken into account in a full analysis.\n",
      "\n",
      "One extremely important point is that this is a [sample size](https://youtu.be/dw9qqvm-LT8) of $N=1$. We need lots more data on other conferences, in different subfields, different parts of the world, and different conference structures. Unlike the large meetings, though, data collection can pretty easily be done by one person, and we're starting to put together some standard graphs and questions we can ask through open data sets [(all of this data is available on Github)](https://github.com/willettk/chile2015-gender) and joint analysis tools like the iPython notebook. I hope it's easy to clone this work for future conferences; I'm happy to help anyone who wants to try that. \n",
      "\n",
      "Given that limited sample size, I think the results for <span style=\"color:red\">AGN2015</span> were really encouraging. I found:\n",
      "\n",
      "* both the attendees and questioners had significantly higher female/male ratios than the NAM or AAS meetings\n",
      "* the male/female ratio was similar for both attendees and speakers, meaning that there was no apparent preference towards which gender got the opportunity to give a talk\n",
      "* both male and female speakers received about the same number of questions per talk\n",
      "* the gender of the first person to ask a question didn't affect subsequent questions\n",
      "* the gender of the session chair didn't affect subsequent questions\n",
      "\n",
      "The main (possible) negative was that the session chairs were overwhelmingly male (again, a possible reflection of a seniority bias). However, this is presumably simpler to correct for an SOC/LOC, is subject to small sample size variance, and doesn't appear to have affected the engagement with the audience, which is good. I also should note for <span style=\"color:red\">AGN2015</span> that the three end-of-day discussions were all moderated by women, and the conference summary was also delivered by a woman. My unofficial impression is that this conference probably had a younger-than-average age, especially among speakers. The targeted talks at this conference were unofficially designated as being reserved for \"*young people doing cool things*\" by the SOC. I'd love to see more of that in every conference, since I think it'd help with both scientific output and participant balance, but those are my own personal biases in play. \n",
      "\n",
      "So maybe smaller conferences are better at gender balance and engagement than larger meetings? As always, we need **lots more data** to see if the effect is real, and to think about what the community can do as a result. \n",
      "\n",
      "*Thanks to the conference organizers of <span style=\"color:red\">AGN2015</span> for inviting me to the meeting, to Meg Urry for presenting some of these results in her conference summary, and to James Davenport, Jonathan Pritchard, and Karen Masters for their previous hard work at the AAS and NAM meetings.*"
     ]
    },
    {
     "cell_type": "code",
     "collapsed": false,
     "input": [],
     "language": "python",
     "metadata": {},
     "outputs": [],
     "prompt_number": 6
    }
   ],
   "metadata": {}
  }
 ]
}